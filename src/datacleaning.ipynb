{
 "cells": [
  {
   "cell_type": "code",
   "execution_count": 1,
   "id": "fb417a68-7ea7-47b4-a45e-cab385c771ff",
   "metadata": {},
   "outputs": [],
   "source": [
    "import pandas as pd\n",
    "import re\n",
    "from nltk.tokenize import word_tokenize\n",
    "from nltk.corpus import stopwords"
   ]
  },
  {
   "cell_type": "code",
   "execution_count": 2,
   "id": "282fff92-e71f-4f8a-9e05-2e0ca28b02af",
   "metadata": {},
   "outputs": [],
   "source": [
    "train_data = pd.read_csv(\"./data/semeval-2017-train.csv\", sep='\\t')\n",
    "valid_data = pd.read_csv(\"./data/semeval-2017-test.csv\", sep='\\t')"
   ]
  },
  {
   "cell_type": "code",
   "execution_count": 3,
   "id": "3e168876-5d9c-4717-b117-98c27b6ffb02",
   "metadata": {},
   "outputs": [
    {
     "data": {
      "text/html": [
       "<div>\n",
       "<style scoped>\n",
       "    .dataframe tbody tr th:only-of-type {\n",
       "        vertical-align: middle;\n",
       "    }\n",
       "\n",
       "    .dataframe tbody tr th {\n",
       "        vertical-align: top;\n",
       "    }\n",
       "\n",
       "    .dataframe thead th {\n",
       "        text-align: right;\n",
       "    }\n",
       "</style>\n",
       "<table border=\"1\" class=\"dataframe\">\n",
       "  <thead>\n",
       "    <tr style=\"text-align: right;\">\n",
       "      <th></th>\n",
       "      <th>label</th>\n",
       "      <th>text</th>\n",
       "    </tr>\n",
       "  </thead>\n",
       "  <tbody>\n",
       "    <tr>\n",
       "      <th>0</th>\n",
       "      <td>1</td>\n",
       "      <td>One Night like In Vegas I make dat Nigga Famous</td>\n",
       "    </tr>\n",
       "    <tr>\n",
       "      <th>1</th>\n",
       "      <td>1</td>\n",
       "      <td>Walking through Chelsea at this time of day is...</td>\n",
       "    </tr>\n",
       "    <tr>\n",
       "      <th>2</th>\n",
       "      <td>0</td>\n",
       "      <td>And on the very first play of the night, Aaron...</td>\n",
       "    </tr>\n",
       "    <tr>\n",
       "      <th>3</th>\n",
       "      <td>0</td>\n",
       "      <td>Drove the bike today, about 40 miles. Felt lik...</td>\n",
       "    </tr>\n",
       "    <tr>\n",
       "      <th>4</th>\n",
       "      <td>-1</td>\n",
       "      <td>looking at the temp outside....hpw did it get ...</td>\n",
       "    </tr>\n",
       "  </tbody>\n",
       "</table>\n",
       "</div>"
      ],
      "text/plain": [
       "   label                                               text\n",
       "0      1    One Night like In Vegas I make dat Nigga Famous\n",
       "1      1  Walking through Chelsea at this time of day is...\n",
       "2      0  And on the very first play of the night, Aaron...\n",
       "3      0  Drove the bike today, about 40 miles. Felt lik...\n",
       "4     -1  looking at the temp outside....hpw did it get ..."
      ]
     },
     "execution_count": 3,
     "metadata": {},
     "output_type": "execute_result"
    }
   ],
   "source": [
    "train_data.head()"
   ]
  },
  {
   "cell_type": "code",
   "execution_count": 4,
   "id": "92a230dd-d9fd-4603-aee9-5b9afdf81cea",
   "metadata": {},
   "outputs": [
    {
     "data": {
      "text/html": [
       "<div>\n",
       "<style scoped>\n",
       "    .dataframe tbody tr th:only-of-type {\n",
       "        vertical-align: middle;\n",
       "    }\n",
       "\n",
       "    .dataframe tbody tr th {\n",
       "        vertical-align: top;\n",
       "    }\n",
       "\n",
       "    .dataframe thead th {\n",
       "        text-align: right;\n",
       "    }\n",
       "</style>\n",
       "<table border=\"1\" class=\"dataframe\">\n",
       "  <thead>\n",
       "    <tr style=\"text-align: right;\">\n",
       "      <th></th>\n",
       "      <th>label</th>\n",
       "      <th>text</th>\n",
       "    </tr>\n",
       "  </thead>\n",
       "  <tbody>\n",
       "    <tr>\n",
       "      <th>0</th>\n",
       "      <td>0</td>\n",
       "      <td>Trump is building a wall on the Mexican border...</td>\n",
       "    </tr>\n",
       "    <tr>\n",
       "      <th>1</th>\n",
       "      <td>-1</td>\n",
       "      <td>@lasinferencias &amp; the WALL Trump wants to buil...</td>\n",
       "    </tr>\n",
       "    <tr>\n",
       "      <th>2</th>\n",
       "      <td>-1</td>\n",
       "      <td>President Elect? More like President Erect! A ...</td>\n",
       "    </tr>\n",
       "    <tr>\n",
       "      <th>3</th>\n",
       "      <td>0</td>\n",
       "      <td>Ok, I know a lot of you think a wall on the Me...</td>\n",
       "    </tr>\n",
       "    <tr>\n",
       "      <th>4</th>\n",
       "      <td>0</td>\n",
       "      <td>The Great Mexican Wall Deception: Trump's Amer...</td>\n",
       "    </tr>\n",
       "  </tbody>\n",
       "</table>\n",
       "</div>"
      ],
      "text/plain": [
       "   label                                               text\n",
       "0      0  Trump is building a wall on the Mexican border...\n",
       "1     -1  @lasinferencias & the WALL Trump wants to buil...\n",
       "2     -1  President Elect? More like President Erect! A ...\n",
       "3      0  Ok, I know a lot of you think a wall on the Me...\n",
       "4      0  The Great Mexican Wall Deception: Trump's Amer..."
      ]
     },
     "execution_count": 4,
     "metadata": {},
     "output_type": "execute_result"
    }
   ],
   "source": [
    "valid_data.head()"
   ]
  },
  {
   "cell_type": "code",
   "execution_count": 5,
   "id": "74a9485f-62db-46b7-a6ec-4a062972ee4f",
   "metadata": {},
   "outputs": [
    {
     "data": {
      "text/plain": [
       "label    0\n",
       "text     0\n",
       "dtype: int64"
      ]
     },
     "execution_count": 5,
     "metadata": {},
     "output_type": "execute_result"
    }
   ],
   "source": [
    "train_data.isnull().sum()"
   ]
  },
  {
   "cell_type": "code",
   "execution_count": 6,
   "id": "e72f8f4a-a4bc-45ff-8e8a-3b1b91501bbd",
   "metadata": {},
   "outputs": [
    {
     "data": {
      "text/plain": [
       "label    0\n",
       "text     0\n",
       "dtype: int64"
      ]
     },
     "execution_count": 6,
     "metadata": {},
     "output_type": "execute_result"
    }
   ],
   "source": [
    "valid_data.isnull().sum()"
   ]
  },
  {
   "cell_type": "code",
   "execution_count": 7,
   "id": "b8342fa5-ce05-439a-98fe-167dfc4802d1",
   "metadata": {},
   "outputs": [],
   "source": [
    "def remove_noise(text):\n",
    "    text = re.sub(r'^rt\\s+', '', text, flags=re.IGNORECASE) # Remove 'RT' at the beginning of the tweet\n",
    "    text = re.sub(r'http\\S+|www\\S+', '', text)  # Remove URLs\n",
    "    text = re.sub(r'@\\w+', '', text)  # Remove mentions (@username)\n",
    "    text = re.sub(r'#', '', text)  # Remove hashtags but keep the word (e.g., #happy -> happy)\n",
    "    text = re.sub(r'[^\\x00-\\x7F]+', '', text) # Remove emojis and non-ASCII characters\n",
    "    return text\n",
    "\n",
    "train_data['cleaned_text'] = train_data['text'].apply(remove_noise)\n",
    "valid_data['cleaned_text'] = valid_data['text'].apply(remove_noise)"
   ]
  },
  {
   "cell_type": "code",
   "execution_count": 8,
   "id": "ef2ab309-12d1-4e4c-a0f7-5dc69302c270",
   "metadata": {},
   "outputs": [],
   "source": [
    "def clean_text(text):\n",
    "    text = re.sub(r'[^a-zA-Z0-9\\s]', ' ', text)  # Remove special characters\n",
    "    text = re.sub(r'\\s+', ' ', text)  # Replace multiple spaces with a single space\n",
    "    #text = text.lower()  # Convert to lowercase\n",
    "    return text\n",
    "\n",
    "train_data['cleaned_text'] = train_data['cleaned_text'].apply(clean_text)\n",
    "valid_data['cleaned_text'] = valid_data['cleaned_text'].apply(clean_text)"
   ]
  },
  {
   "cell_type": "code",
   "execution_count": 9,
   "id": "260c2506-0181-4f09-b4a1-2f4479157b41",
   "metadata": {},
   "outputs": [
    {
     "data": {
      "text/plain": [
       "label\n",
       " 0    22175\n",
       " 1    19620\n",
       "-1     7701\n",
       "Name: count, dtype: int64"
      ]
     },
     "execution_count": 9,
     "metadata": {},
     "output_type": "execute_result"
    }
   ],
   "source": [
    "label_counts = train_data['label'].value_counts()\n",
    "label_counts"
   ]
  },
  {
   "cell_type": "code",
   "execution_count": 10,
   "id": "d2453368-75a7-4d4f-acf6-50615252076d",
   "metadata": {},
   "outputs": [
    {
     "data": {
      "text/plain": [
       "label\n",
       " 0    5787\n",
       "-1    3857\n",
       " 1    2333\n",
       "Name: count, dtype: int64"
      ]
     },
     "execution_count": 10,
     "metadata": {},
     "output_type": "execute_result"
    }
   ],
   "source": [
    "label_counts = valid_data['label'].value_counts()\n",
    "label_counts"
   ]
  },
  {
   "cell_type": "code",
   "execution_count": 11,
   "id": "a1c0a1b7-78cd-48c5-b735-1dc97b63fb42",
   "metadata": {},
   "outputs": [],
   "source": [
    "train_data['cleaned_text'] = train_data['cleaned_text'].apply(word_tokenize)\n",
    "valid_data['cleaned_text'] = valid_data['cleaned_text'].apply(word_tokenize)"
   ]
  },
  {
   "cell_type": "code",
   "execution_count": 12,
   "id": "25e8807a-1975-4d74-bd57-93b10b2fe3c5",
   "metadata": {},
   "outputs": [],
   "source": [
    "stop_words = set(stopwords.words('english'))\n",
    "\n",
    "# Function to remove stopwords\n",
    "def remove_stopwords(tokens):\n",
    "    return [word for word in tokens if word.lower() not in stop_words]\n",
    "\n",
    "# Apply stopword removal\n",
    "train_data['cleaned_text'] = train_data['cleaned_text'].apply(remove_stopwords)\n",
    "valid_data['cleaned_text'] = valid_data['cleaned_text'].apply(remove_stopwords)"
   ]
  },
  {
   "cell_type": "code",
   "execution_count": 13,
   "id": "a28c2580-fe6b-4d5e-9092-3f947227012c",
   "metadata": {},
   "outputs": [
    {
     "data": {
      "text/html": [
       "<div>\n",
       "<style scoped>\n",
       "    .dataframe tbody tr th:only-of-type {\n",
       "        vertical-align: middle;\n",
       "    }\n",
       "\n",
       "    .dataframe tbody tr th {\n",
       "        vertical-align: top;\n",
       "    }\n",
       "\n",
       "    .dataframe thead th {\n",
       "        text-align: right;\n",
       "    }\n",
       "</style>\n",
       "<table border=\"1\" class=\"dataframe\">\n",
       "  <thead>\n",
       "    <tr style=\"text-align: right;\">\n",
       "      <th></th>\n",
       "      <th>label</th>\n",
       "      <th>text</th>\n",
       "      <th>cleaned_text</th>\n",
       "    </tr>\n",
       "  </thead>\n",
       "  <tbody>\n",
       "    <tr>\n",
       "      <th>0</th>\n",
       "      <td>1</td>\n",
       "      <td>One Night like In Vegas I make dat Nigga Famous</td>\n",
       "      <td>[One, Night, like, Vegas, make, dat, Nigga, Fa...</td>\n",
       "    </tr>\n",
       "    <tr>\n",
       "      <th>1</th>\n",
       "      <td>1</td>\n",
       "      <td>Walking through Chelsea at this time of day is...</td>\n",
       "      <td>[Walking, Chelsea, time, day, rather, lovely, ...</td>\n",
       "    </tr>\n",
       "    <tr>\n",
       "      <th>2</th>\n",
       "      <td>0</td>\n",
       "      <td>And on the very first play of the night, Aaron...</td>\n",
       "      <td>[first, play, night, Aaron, Rodgers, INT, UDFA...</td>\n",
       "    </tr>\n",
       "    <tr>\n",
       "      <th>3</th>\n",
       "      <td>0</td>\n",
       "      <td>Drove the bike today, about 40 miles. Felt lik...</td>\n",
       "      <td>[Drove, bike, today, 40, miles, Felt, like, Ji...</td>\n",
       "    </tr>\n",
       "    <tr>\n",
       "      <th>4</th>\n",
       "      <td>-1</td>\n",
       "      <td>looking at the temp outside....hpw did it get ...</td>\n",
       "      <td>[looking, temp, outside, hpw, get, hotter, sun...</td>\n",
       "    </tr>\n",
       "  </tbody>\n",
       "</table>\n",
       "</div>"
      ],
      "text/plain": [
       "   label                                               text  \\\n",
       "0      1    One Night like In Vegas I make dat Nigga Famous   \n",
       "1      1  Walking through Chelsea at this time of day is...   \n",
       "2      0  And on the very first play of the night, Aaron...   \n",
       "3      0  Drove the bike today, about 40 miles. Felt lik...   \n",
       "4     -1  looking at the temp outside....hpw did it get ...   \n",
       "\n",
       "                                        cleaned_text  \n",
       "0  [One, Night, like, Vegas, make, dat, Nigga, Fa...  \n",
       "1  [Walking, Chelsea, time, day, rather, lovely, ...  \n",
       "2  [first, play, night, Aaron, Rodgers, INT, UDFA...  \n",
       "3  [Drove, bike, today, 40, miles, Felt, like, Ji...  \n",
       "4  [looking, temp, outside, hpw, get, hotter, sun...  "
      ]
     },
     "execution_count": 13,
     "metadata": {},
     "output_type": "execute_result"
    }
   ],
   "source": [
    "train_data.head()"
   ]
  },
  {
   "cell_type": "code",
   "execution_count": 14,
   "id": "a2b33021-a666-4e6c-b50e-897990f22a6f",
   "metadata": {},
   "outputs": [
    {
     "data": {
      "text/html": [
       "<div>\n",
       "<style scoped>\n",
       "    .dataframe tbody tr th:only-of-type {\n",
       "        vertical-align: middle;\n",
       "    }\n",
       "\n",
       "    .dataframe tbody tr th {\n",
       "        vertical-align: top;\n",
       "    }\n",
       "\n",
       "    .dataframe thead th {\n",
       "        text-align: right;\n",
       "    }\n",
       "</style>\n",
       "<table border=\"1\" class=\"dataframe\">\n",
       "  <thead>\n",
       "    <tr style=\"text-align: right;\">\n",
       "      <th></th>\n",
       "      <th>label</th>\n",
       "      <th>text</th>\n",
       "      <th>cleaned_text</th>\n",
       "    </tr>\n",
       "  </thead>\n",
       "  <tbody>\n",
       "    <tr>\n",
       "      <th>0</th>\n",
       "      <td>0</td>\n",
       "      <td>Trump is building a wall on the Mexican border...</td>\n",
       "      <td>[Trump, building, wall, Mexican, border, stop,...</td>\n",
       "    </tr>\n",
       "    <tr>\n",
       "      <th>1</th>\n",
       "      <td>-1</td>\n",
       "      <td>@lasinferencias &amp; the WALL Trump wants to buil...</td>\n",
       "      <td>[WALL, Trump, wants, build, researched, would,...</td>\n",
       "    </tr>\n",
       "    <tr>\n",
       "      <th>2</th>\n",
       "      <td>-1</td>\n",
       "      <td>President Elect? More like President Erect! A ...</td>\n",
       "      <td>[President, Elect, like, President, Erect, wal...</td>\n",
       "    </tr>\n",
       "    <tr>\n",
       "      <th>3</th>\n",
       "      <td>0</td>\n",
       "      <td>Ok, I know a lot of you think a wall on the Me...</td>\n",
       "      <td>[Ok, know, lot, think, wall, Mexican, border, ...</td>\n",
       "    </tr>\n",
       "    <tr>\n",
       "      <th>4</th>\n",
       "      <td>0</td>\n",
       "      <td>The Great Mexican Wall Deception: Trump's Amer...</td>\n",
       "      <td>[Great, Mexican, Wall, Deception, Trump, Ameri...</td>\n",
       "    </tr>\n",
       "  </tbody>\n",
       "</table>\n",
       "</div>"
      ],
      "text/plain": [
       "   label                                               text  \\\n",
       "0      0  Trump is building a wall on the Mexican border...   \n",
       "1     -1  @lasinferencias & the WALL Trump wants to buil...   \n",
       "2     -1  President Elect? More like President Erect! A ...   \n",
       "3      0  Ok, I know a lot of you think a wall on the Me...   \n",
       "4      0  The Great Mexican Wall Deception: Trump's Amer...   \n",
       "\n",
       "                                        cleaned_text  \n",
       "0  [Trump, building, wall, Mexican, border, stop,...  \n",
       "1  [WALL, Trump, wants, build, researched, would,...  \n",
       "2  [President, Elect, like, President, Erect, wal...  \n",
       "3  [Ok, know, lot, think, wall, Mexican, border, ...  \n",
       "4  [Great, Mexican, Wall, Deception, Trump, Ameri...  "
      ]
     },
     "execution_count": 14,
     "metadata": {},
     "output_type": "execute_result"
    }
   ],
   "source": [
    "valid_data.head()"
   ]
  },
  {
   "cell_type": "code",
   "execution_count": 15,
   "id": "3631a8d8-db5a-4e10-91b8-4237da163720",
   "metadata": {},
   "outputs": [],
   "source": [
    "pronouns = ['i', 'you', 'he', 'she', 'it', 'we', 'they']\n",
    "def remove_all_names(tokens):\n",
    "    # Filter out words where all characters are uppercase\n",
    "    return [token.lower() for i,token in enumerate(tokens) if not (token[0].isupper() and (i==0) and token.lower() in pronouns)]\n",
    "    \n",
    "# Apply to the tokens column\n",
    "train_data['cleaned_text'] = train_data['cleaned_text'].apply(remove_all_names)\n",
    "valid_data['cleaned_text'] = valid_data['cleaned_text'].apply(remove_all_names)"
   ]
  },
  {
   "cell_type": "code",
   "execution_count": 16,
   "id": "ed2413eb-0820-4c69-9268-3d4222df3f58",
   "metadata": {},
   "outputs": [
    {
     "data": {
      "text/plain": [
       "label                                                           1\n",
       "text            Walking through Chelsea at this time of day is...\n",
       "cleaned_text    [walking, chelsea, time, day, rather, lovely, ...\n",
       "Name: 1, dtype: object"
      ]
     },
     "execution_count": 16,
     "metadata": {},
     "output_type": "execute_result"
    }
   ],
   "source": [
    "train_data.iloc[1]"
   ]
  },
  {
   "cell_type": "code",
   "execution_count": 17,
   "id": "51993d11-200b-466b-91c5-291a93c4186e",
   "metadata": {},
   "outputs": [],
   "source": [
    "def lower(tokens):\n",
    "    return [token.lower() for token in tokens]\n",
    "    \n",
    "train_data['cleaned_text'] = train_data['cleaned_text'].apply(lower)\n",
    "valid_data['cleaned_text'] = valid_data['cleaned_text'].apply(lower)\n",
    "train_data['text'] = train_data['text'].apply(lambda x: x.lower())\n",
    "valid_data['text'] = valid_data['text'].apply(lambda x: x.lower())"
   ]
  },
  {
   "cell_type": "code",
   "execution_count": 18,
   "id": "2428563f-54a1-473a-b39d-167778c3ea4c",
   "metadata": {},
   "outputs": [
    {
     "data": {
      "text/html": [
       "<div>\n",
       "<style scoped>\n",
       "    .dataframe tbody tr th:only-of-type {\n",
       "        vertical-align: middle;\n",
       "    }\n",
       "\n",
       "    .dataframe tbody tr th {\n",
       "        vertical-align: top;\n",
       "    }\n",
       "\n",
       "    .dataframe thead th {\n",
       "        text-align: right;\n",
       "    }\n",
       "</style>\n",
       "<table border=\"1\" class=\"dataframe\">\n",
       "  <thead>\n",
       "    <tr style=\"text-align: right;\">\n",
       "      <th></th>\n",
       "      <th>label</th>\n",
       "      <th>text</th>\n",
       "      <th>cleaned_text</th>\n",
       "    </tr>\n",
       "  </thead>\n",
       "  <tbody>\n",
       "    <tr>\n",
       "      <th>0</th>\n",
       "      <td>1</td>\n",
       "      <td>one night like in vegas i make dat nigga famous</td>\n",
       "      <td>[one, night, like, vegas, make, dat, nigga, fa...</td>\n",
       "    </tr>\n",
       "    <tr>\n",
       "      <th>1</th>\n",
       "      <td>1</td>\n",
       "      <td>walking through chelsea at this time of day is...</td>\n",
       "      <td>[walking, chelsea, time, day, rather, lovely, ...</td>\n",
       "    </tr>\n",
       "    <tr>\n",
       "      <th>2</th>\n",
       "      <td>0</td>\n",
       "      <td>and on the very first play of the night, aaron...</td>\n",
       "      <td>[first, play, night, aaron, rodgers, int, udfa...</td>\n",
       "    </tr>\n",
       "    <tr>\n",
       "      <th>3</th>\n",
       "      <td>0</td>\n",
       "      <td>drove the bike today, about 40 miles. felt lik...</td>\n",
       "      <td>[drove, bike, today, 40, miles, felt, like, ji...</td>\n",
       "    </tr>\n",
       "    <tr>\n",
       "      <th>4</th>\n",
       "      <td>-1</td>\n",
       "      <td>looking at the temp outside....hpw did it get ...</td>\n",
       "      <td>[looking, temp, outside, hpw, get, hotter, sun...</td>\n",
       "    </tr>\n",
       "  </tbody>\n",
       "</table>\n",
       "</div>"
      ],
      "text/plain": [
       "   label                                               text  \\\n",
       "0      1    one night like in vegas i make dat nigga famous   \n",
       "1      1  walking through chelsea at this time of day is...   \n",
       "2      0  and on the very first play of the night, aaron...   \n",
       "3      0  drove the bike today, about 40 miles. felt lik...   \n",
       "4     -1  looking at the temp outside....hpw did it get ...   \n",
       "\n",
       "                                        cleaned_text  \n",
       "0  [one, night, like, vegas, make, dat, nigga, fa...  \n",
       "1  [walking, chelsea, time, day, rather, lovely, ...  \n",
       "2  [first, play, night, aaron, rodgers, int, udfa...  \n",
       "3  [drove, bike, today, 40, miles, felt, like, ji...  \n",
       "4  [looking, temp, outside, hpw, get, hotter, sun...  "
      ]
     },
     "execution_count": 18,
     "metadata": {},
     "output_type": "execute_result"
    }
   ],
   "source": [
    "train_data.head()"
   ]
  },
  {
   "cell_type": "code",
   "execution_count": 19,
   "id": "0608790e-2fd8-4bf8-b960-f5622f2db039",
   "metadata": {},
   "outputs": [
    {
     "data": {
      "text/html": [
       "<div>\n",
       "<style scoped>\n",
       "    .dataframe tbody tr th:only-of-type {\n",
       "        vertical-align: middle;\n",
       "    }\n",
       "\n",
       "    .dataframe tbody tr th {\n",
       "        vertical-align: top;\n",
       "    }\n",
       "\n",
       "    .dataframe thead th {\n",
       "        text-align: right;\n",
       "    }\n",
       "</style>\n",
       "<table border=\"1\" class=\"dataframe\">\n",
       "  <thead>\n",
       "    <tr style=\"text-align: right;\">\n",
       "      <th></th>\n",
       "      <th>label</th>\n",
       "      <th>text</th>\n",
       "      <th>cleaned_text</th>\n",
       "    </tr>\n",
       "  </thead>\n",
       "  <tbody>\n",
       "    <tr>\n",
       "      <th>0</th>\n",
       "      <td>0</td>\n",
       "      <td>trump is building a wall on the mexican border...</td>\n",
       "      <td>[trump, building, wall, mexican, border, stop,...</td>\n",
       "    </tr>\n",
       "    <tr>\n",
       "      <th>1</th>\n",
       "      <td>-1</td>\n",
       "      <td>@lasinferencias &amp; the wall trump wants to buil...</td>\n",
       "      <td>[wall, trump, wants, build, researched, would,...</td>\n",
       "    </tr>\n",
       "    <tr>\n",
       "      <th>2</th>\n",
       "      <td>-1</td>\n",
       "      <td>president elect? more like president erect! a ...</td>\n",
       "      <td>[president, elect, like, president, erect, wal...</td>\n",
       "    </tr>\n",
       "    <tr>\n",
       "      <th>3</th>\n",
       "      <td>0</td>\n",
       "      <td>ok, i know a lot of you think a wall on the me...</td>\n",
       "      <td>[ok, know, lot, think, wall, mexican, border, ...</td>\n",
       "    </tr>\n",
       "    <tr>\n",
       "      <th>4</th>\n",
       "      <td>0</td>\n",
       "      <td>the great mexican wall deception: trump's amer...</td>\n",
       "      <td>[great, mexican, wall, deception, trump, ameri...</td>\n",
       "    </tr>\n",
       "  </tbody>\n",
       "</table>\n",
       "</div>"
      ],
      "text/plain": [
       "   label                                               text  \\\n",
       "0      0  trump is building a wall on the mexican border...   \n",
       "1     -1  @lasinferencias & the wall trump wants to buil...   \n",
       "2     -1  president elect? more like president erect! a ...   \n",
       "3      0  ok, i know a lot of you think a wall on the me...   \n",
       "4      0  the great mexican wall deception: trump's amer...   \n",
       "\n",
       "                                        cleaned_text  \n",
       "0  [trump, building, wall, mexican, border, stop,...  \n",
       "1  [wall, trump, wants, build, researched, would,...  \n",
       "2  [president, elect, like, president, erect, wal...  \n",
       "3  [ok, know, lot, think, wall, mexican, border, ...  \n",
       "4  [great, mexican, wall, deception, trump, ameri...  "
      ]
     },
     "execution_count": 19,
     "metadata": {},
     "output_type": "execute_result"
    }
   ],
   "source": [
    "valid_data.head()"
   ]
  },
  {
   "cell_type": "code",
   "execution_count": 20,
   "id": "bbe2ad48-7775-4d3e-90a7-5849f3df069b",
   "metadata": {},
   "outputs": [],
   "source": [
    "duplicates = train_data[train_data.duplicated(subset=['text'], keep=False)] \n",
    "train_data = train_data.drop_duplicates(subset=['text'], keep='first') \n",
    "\n",
    "duplicates = valid_data[valid_data.duplicated(subset=['text'], keep=False)] \n",
    "valid_data = valid_data.drop_duplicates(subset=['text'], keep='first') "
   ]
  },
  {
   "cell_type": "code",
   "execution_count": 21,
   "id": "85bb9606-e338-4fc1-937b-699f7700697a",
   "metadata": {},
   "outputs": [],
   "source": [
    "train_data['cat_label'] = pd.Categorical(train_data['label'])\n",
    "train_data['label'] = train_data['cat_label'].cat.codes \n",
    "\n",
    "valid_data['cat_label'] = pd.Categorical(valid_data['label'])\n",
    "valid_data['label'] = valid_data['cat_label'].cat.codes"
   ]
  },
  {
   "cell_type": "code",
   "execution_count": 22,
   "id": "d54e5922-a414-4c21-911d-91d6feb77d09",
   "metadata": {},
   "outputs": [],
   "source": [
    "train_data['tokens'] = train_data['cleaned_text']\n",
    "valid_data['tokens'] = valid_data['cleaned_text']"
   ]
  },
  {
   "cell_type": "code",
   "execution_count": 23,
   "id": "c353e384-82e4-4cbb-8ff3-19bb57b84c2b",
   "metadata": {},
   "outputs": [],
   "source": [
    "train_data['cleaned_text'] = train_data['cleaned_text'].apply(lambda x: ' '.join(x))\n",
    "valid_data['cleaned_text'] = valid_data['cleaned_text'].apply(lambda x: ' '.join(x))"
   ]
  },
  {
   "cell_type": "code",
   "execution_count": 24,
   "id": "44a2685f-90fe-4695-9b92-093377fa9660",
   "metadata": {},
   "outputs": [],
   "source": [
    "train_data.to_csv('./data/train_data.csv', index=False)\n",
    "valid_data.to_csv('./data/valid_data.csv', index=False)"
   ]
  },
  {
   "cell_type": "code",
   "execution_count": 25,
   "id": "21f3cb4e-50e2-48c3-bc1a-455680c2b280",
   "metadata": {},
   "outputs": [
    {
     "data": {
      "text/html": [
       "<div>\n",
       "<style scoped>\n",
       "    .dataframe tbody tr th:only-of-type {\n",
       "        vertical-align: middle;\n",
       "    }\n",
       "\n",
       "    .dataframe tbody tr th {\n",
       "        vertical-align: top;\n",
       "    }\n",
       "\n",
       "    .dataframe thead th {\n",
       "        text-align: right;\n",
       "    }\n",
       "</style>\n",
       "<table border=\"1\" class=\"dataframe\">\n",
       "  <thead>\n",
       "    <tr style=\"text-align: right;\">\n",
       "      <th></th>\n",
       "      <th>label</th>\n",
       "      <th>text</th>\n",
       "      <th>cleaned_text</th>\n",
       "      <th>cat_label</th>\n",
       "      <th>tokens</th>\n",
       "    </tr>\n",
       "  </thead>\n",
       "  <tbody>\n",
       "    <tr>\n",
       "      <th>0</th>\n",
       "      <td>2</td>\n",
       "      <td>one night like in vegas i make dat nigga famous</td>\n",
       "      <td>one night like vegas make dat nigga famous</td>\n",
       "      <td>1</td>\n",
       "      <td>[one, night, like, vegas, make, dat, nigga, fa...</td>\n",
       "    </tr>\n",
       "    <tr>\n",
       "      <th>1</th>\n",
       "      <td>2</td>\n",
       "      <td>walking through chelsea at this time of day is...</td>\n",
       "      <td>walking chelsea time day rather lovely love lo...</td>\n",
       "      <td>1</td>\n",
       "      <td>[walking, chelsea, time, day, rather, lovely, ...</td>\n",
       "    </tr>\n",
       "    <tr>\n",
       "      <th>2</th>\n",
       "      <td>1</td>\n",
       "      <td>and on the very first play of the night, aaron...</td>\n",
       "      <td>first play night aaron rodgers int udfa cb bra...</td>\n",
       "      <td>0</td>\n",
       "      <td>[first, play, night, aaron, rodgers, int, udfa...</td>\n",
       "    </tr>\n",
       "    <tr>\n",
       "      <th>3</th>\n",
       "      <td>1</td>\n",
       "      <td>drove the bike today, about 40 miles. felt lik...</td>\n",
       "      <td>drove bike today 40 miles felt like jim carrey...</td>\n",
       "      <td>0</td>\n",
       "      <td>[drove, bike, today, 40, miles, felt, like, ji...</td>\n",
       "    </tr>\n",
       "    <tr>\n",
       "      <th>4</th>\n",
       "      <td>0</td>\n",
       "      <td>looking at the temp outside....hpw did it get ...</td>\n",
       "      <td>looking temp outside hpw get hotter sun goes f...</td>\n",
       "      <td>-1</td>\n",
       "      <td>[looking, temp, outside, hpw, get, hotter, sun...</td>\n",
       "    </tr>\n",
       "    <tr>\n",
       "      <th>...</th>\n",
       "      <td>...</td>\n",
       "      <td>...</td>\n",
       "      <td>...</td>\n",
       "      <td>...</td>\n",
       "      <td>...</td>\n",
       "    </tr>\n",
       "    <tr>\n",
       "      <th>49491</th>\n",
       "      <td>2</td>\n",
       "      <td>today *very* rare day when democrats will get ...</td>\n",
       "      <td>today rare day democrats get healthier club gr...</td>\n",
       "      <td>1</td>\n",
       "      <td>[today, rare, day, democrats, get, healthier, ...</td>\n",
       "    </tr>\n",
       "    <tr>\n",
       "      <th>49492</th>\n",
       "      <td>2</td>\n",
       "      <td>rt @steventdennis: today *very* rare day when ...</td>\n",
       "      <td>today rare day democrats get healthier club gr...</td>\n",
       "      <td>1</td>\n",
       "      <td>[today, rare, day, democrats, get, healthier, ...</td>\n",
       "    </tr>\n",
       "    <tr>\n",
       "      <th>49493</th>\n",
       "      <td>0</td>\n",
       "      <td>@charliemax democrats will quickly implode and...</td>\n",
       "      <td>democrats quickly implode concede obama either...</td>\n",
       "      <td>-1</td>\n",
       "      <td>[democrats, quickly, implode, concede, obama, ...</td>\n",
       "    </tr>\n",
       "    <tr>\n",
       "      <th>49494</th>\n",
       "      <td>0</td>\n",
       "      <td>once again democrats spent all night and this ...</td>\n",
       "      <td>democrats spent night morning trying talk stoc...</td>\n",
       "      <td>-1</td>\n",
       "      <td>[democrats, spent, night, morning, trying, tal...</td>\n",
       "    </tr>\n",
       "    <tr>\n",
       "      <th>49495</th>\n",
       "      <td>0</td>\n",
       "      <td>rt @politicolnews: i think it's time to start ...</td>\n",
       "      <td>think time start calling democrats offices dem...</td>\n",
       "      <td>-1</td>\n",
       "      <td>[think, time, start, calling, democrats, offic...</td>\n",
       "    </tr>\n",
       "  </tbody>\n",
       "</table>\n",
       "<p>49479 rows × 5 columns</p>\n",
       "</div>"
      ],
      "text/plain": [
       "       label                                               text  \\\n",
       "0          2    one night like in vegas i make dat nigga famous   \n",
       "1          2  walking through chelsea at this time of day is...   \n",
       "2          1  and on the very first play of the night, aaron...   \n",
       "3          1  drove the bike today, about 40 miles. felt lik...   \n",
       "4          0  looking at the temp outside....hpw did it get ...   \n",
       "...      ...                                                ...   \n",
       "49491      2  today *very* rare day when democrats will get ...   \n",
       "49492      2  rt @steventdennis: today *very* rare day when ...   \n",
       "49493      0  @charliemax democrats will quickly implode and...   \n",
       "49494      0  once again democrats spent all night and this ...   \n",
       "49495      0  rt @politicolnews: i think it's time to start ...   \n",
       "\n",
       "                                            cleaned_text cat_label  \\\n",
       "0             one night like vegas make dat nigga famous         1   \n",
       "1      walking chelsea time day rather lovely love lo...         1   \n",
       "2      first play night aaron rodgers int udfa cb bra...         0   \n",
       "3      drove bike today 40 miles felt like jim carrey...         0   \n",
       "4      looking temp outside hpw get hotter sun goes f...        -1   \n",
       "...                                                  ...       ...   \n",
       "49491  today rare day democrats get healthier club gr...         1   \n",
       "49492  today rare day democrats get healthier club gr...         1   \n",
       "49493  democrats quickly implode concede obama either...        -1   \n",
       "49494  democrats spent night morning trying talk stoc...        -1   \n",
       "49495  think time start calling democrats offices dem...        -1   \n",
       "\n",
       "                                                  tokens  \n",
       "0      [one, night, like, vegas, make, dat, nigga, fa...  \n",
       "1      [walking, chelsea, time, day, rather, lovely, ...  \n",
       "2      [first, play, night, aaron, rodgers, int, udfa...  \n",
       "3      [drove, bike, today, 40, miles, felt, like, ji...  \n",
       "4      [looking, temp, outside, hpw, get, hotter, sun...  \n",
       "...                                                  ...  \n",
       "49491  [today, rare, day, democrats, get, healthier, ...  \n",
       "49492  [today, rare, day, democrats, get, healthier, ...  \n",
       "49493  [democrats, quickly, implode, concede, obama, ...  \n",
       "49494  [democrats, spent, night, morning, trying, tal...  \n",
       "49495  [think, time, start, calling, democrats, offic...  \n",
       "\n",
       "[49479 rows x 5 columns]"
      ]
     },
     "execution_count": 25,
     "metadata": {},
     "output_type": "execute_result"
    }
   ],
   "source": [
    "train_data"
   ]
  },
  {
   "cell_type": "code",
   "execution_count": null,
   "id": "b981e794-472b-4a9d-800d-1a3acdf5411e",
   "metadata": {},
   "outputs": [],
   "source": []
  },
  {
   "cell_type": "code",
   "execution_count": null,
   "id": "41fa299e-a29a-49f6-9af7-4e2ec84a86e2",
   "metadata": {},
   "outputs": [],
   "source": []
  }
 ],
 "metadata": {
  "kernelspec": {
   "display_name": "pytorch_env",
   "language": "python",
   "name": "python3"
  },
  "language_info": {
   "codemirror_mode": {
    "name": "ipython",
    "version": 3
   },
   "file_extension": ".py",
   "mimetype": "text/x-python",
   "name": "python",
   "nbconvert_exporter": "python",
   "pygments_lexer": "ipython3",
   "version": "3.9.20"
  }
 },
 "nbformat": 4,
 "nbformat_minor": 5
}
