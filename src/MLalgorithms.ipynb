{
 "cells": [
  {
   "cell_type": "code",
   "execution_count": 49,
   "id": "b7d0f21c-08bd-4df6-b6b1-dfd09708a933",
   "metadata": {},
   "outputs": [],
   "source": [
    "import pandas as pd\n",
    "from tqdm import tqdm\n",
    "import matplotlib.pyplot as plt\n",
    "import seaborn as sns\n",
    "import joblib\n",
    "\n",
    "from sklearn.feature_extraction.text import TfidfVectorizer\n",
    "from sklearn.metrics import confusion_matrix, accuracy_score\n",
    "from sklearn.svm import SVC\n",
    "from sklearn.linear_model import LogisticRegression\n",
    "import lightgbm as lgb\n",
    "from sklearn.model_selection import StratifiedKFold"
   ]
  },
  {
   "cell_type": "code",
   "execution_count": 50,
   "id": "b5bb8a20-338f-45e8-a31d-4146b02853d3",
   "metadata": {},
   "outputs": [],
   "source": [
    "train = pd.read_csv('./data/train_data.csv')\n",
    "valid = pd.read_csv('./data/valid_data.csv')\n",
    "train = train.reset_index(drop=True)\n",
    "valid = valid.reset_index(drop=True)\n",
    "train = train.dropna()\n",
    "valid = valid.dropna()"
   ]
  },
  {
   "cell_type": "code",
   "execution_count": 51,
   "id": "75aae7c3-6f01-4bea-a015-12d5ef492326",
   "metadata": {},
   "outputs": [
    {
     "data": {
      "text/html": [
       "<div>\n",
       "<style scoped>\n",
       "    .dataframe tbody tr th:only-of-type {\n",
       "        vertical-align: middle;\n",
       "    }\n",
       "\n",
       "    .dataframe tbody tr th {\n",
       "        vertical-align: top;\n",
       "    }\n",
       "\n",
       "    .dataframe thead th {\n",
       "        text-align: right;\n",
       "    }\n",
       "</style>\n",
       "<table border=\"1\" class=\"dataframe\">\n",
       "  <thead>\n",
       "    <tr style=\"text-align: right;\">\n",
       "      <th></th>\n",
       "      <th>label</th>\n",
       "      <th>text</th>\n",
       "      <th>cleaned_text</th>\n",
       "      <th>cat_label</th>\n",
       "      <th>tokens</th>\n",
       "    </tr>\n",
       "  </thead>\n",
       "  <tbody>\n",
       "    <tr>\n",
       "      <th>0</th>\n",
       "      <td>2</td>\n",
       "      <td>one night like in vegas i make dat nigga famous</td>\n",
       "      <td>one night like vegas make dat nigga famous</td>\n",
       "      <td>1</td>\n",
       "      <td>['one', 'night', 'like', 'vegas', 'make', 'dat...</td>\n",
       "    </tr>\n",
       "    <tr>\n",
       "      <th>1</th>\n",
       "      <td>2</td>\n",
       "      <td>walking through chelsea at this time of day is...</td>\n",
       "      <td>walking chelsea time day rather lovely love lo...</td>\n",
       "      <td>1</td>\n",
       "      <td>['walking', 'chelsea', 'time', 'day', 'rather'...</td>\n",
       "    </tr>\n",
       "    <tr>\n",
       "      <th>2</th>\n",
       "      <td>1</td>\n",
       "      <td>and on the very first play of the night, aaron...</td>\n",
       "      <td>first play night aaron rodgers int udfa cb bra...</td>\n",
       "      <td>0</td>\n",
       "      <td>['first', 'play', 'night', 'aaron', 'rodgers',...</td>\n",
       "    </tr>\n",
       "    <tr>\n",
       "      <th>3</th>\n",
       "      <td>1</td>\n",
       "      <td>drove the bike today, about 40 miles. felt lik...</td>\n",
       "      <td>drove bike today 40 miles felt like jim carrey...</td>\n",
       "      <td>0</td>\n",
       "      <td>['drove', 'bike', 'today', '40', 'miles', 'fel...</td>\n",
       "    </tr>\n",
       "    <tr>\n",
       "      <th>4</th>\n",
       "      <td>0</td>\n",
       "      <td>looking at the temp outside....hpw did it get ...</td>\n",
       "      <td>looking temp outside hpw get hotter sun goes f...</td>\n",
       "      <td>-1</td>\n",
       "      <td>['looking', 'temp', 'outside', 'hpw', 'get', '...</td>\n",
       "    </tr>\n",
       "  </tbody>\n",
       "</table>\n",
       "</div>"
      ],
      "text/plain": [
       "   label                                               text  \\\n",
       "0      2    one night like in vegas i make dat nigga famous   \n",
       "1      2  walking through chelsea at this time of day is...   \n",
       "2      1  and on the very first play of the night, aaron...   \n",
       "3      1  drove the bike today, about 40 miles. felt lik...   \n",
       "4      0  looking at the temp outside....hpw did it get ...   \n",
       "\n",
       "                                        cleaned_text  cat_label  \\\n",
       "0         one night like vegas make dat nigga famous          1   \n",
       "1  walking chelsea time day rather lovely love lo...          1   \n",
       "2  first play night aaron rodgers int udfa cb bra...          0   \n",
       "3  drove bike today 40 miles felt like jim carrey...          0   \n",
       "4  looking temp outside hpw get hotter sun goes f...         -1   \n",
       "\n",
       "                                              tokens  \n",
       "0  ['one', 'night', 'like', 'vegas', 'make', 'dat...  \n",
       "1  ['walking', 'chelsea', 'time', 'day', 'rather'...  \n",
       "2  ['first', 'play', 'night', 'aaron', 'rodgers',...  \n",
       "3  ['drove', 'bike', 'today', '40', 'miles', 'fel...  \n",
       "4  ['looking', 'temp', 'outside', 'hpw', 'get', '...  "
      ]
     },
     "execution_count": 51,
     "metadata": {},
     "output_type": "execute_result"
    }
   ],
   "source": [
    "train.head()"
   ]
  },
  {
   "cell_type": "code",
   "execution_count": 52,
   "id": "f3005b10-80b9-48be-93e0-10ebd89473f4",
   "metadata": {},
   "outputs": [
    {
     "data": {
      "text/plain": [
       "['./vocab/tfidf_vectorizer.pkl']"
      ]
     },
     "execution_count": 52,
     "metadata": {},
     "output_type": "execute_result"
    }
   ],
   "source": [
    "# Extract text and labels\n",
    "train_texts = train['text'].tolist()\n",
    "train_labels = train['cat_label'].map({1:2, 0:1, -1:0})\n",
    "test_texts = valid['text'].tolist()\n",
    "test_labels = valid['cat_label'].map({1:2, 0:1, -1:0})\n",
    "\n",
    "vectorizer = TfidfVectorizer(max_features=15000) # Adjust max_features as needed\n",
    "train_features = vectorizer.fit_transform(train_texts)\n",
    "test_features = vectorizer.transform(test_texts)\n",
    "joblib.dump(vectorizer, './vocab/tfidf_vectorizer.pkl')"
   ]
  },
  {
   "cell_type": "code",
   "execution_count": 53,
   "id": "959eb9c1",
   "metadata": {},
   "outputs": [],
   "source": [
    "def show_confusion_matrix(model_name, predictions):\n",
    "    # Print confusion matrix\n",
    "    confusion_matrix_model = confusion_matrix(test_labels, predictions)\n",
    "    plt.figure(figsize=(7, 6))\n",
    "    sns.heatmap(confusion_matrix_model, annot=True, fmt='d', cmap='YlOrRd',annot_kws={\"size\": 20, \"color\": \"Black\"})\n",
    "    plt.title(f'Confusion Matrix ({model_name})', fontsize=18)\n",
    "    plt.ylabel('Actual', fontsize=14)\n",
    "    plt.xlabel('Predicted', fontsize=14)\n",
    "    plt.xticks([0.5, 1.5, 2.5], ['Negative', 'Neutral', 'Positive'], fontsize=18,color\n",
    "    = 'Red')\n",
    "    plt.yticks([0.5, 1.5, 2.5], ['Negative', 'Neutral', 'Positive'], fontsize=18, color\n",
    "    = 'Blue')\n",
    "    plt.tight_layout()\n",
    "    plt.show()\n",
    "\n",
    "    return confusion_matrix_model"
   ]
  },
  {
   "cell_type": "code",
   "execution_count": 54,
   "id": "cfde9f85-4f42-47a0-a9c8-dc43ed4d7226",
   "metadata": {},
   "outputs": [
    {
     "name": "stderr",
     "output_type": "stream",
     "text": [
      "Training LR: 100%|██████████| 9/9 [00:11<00:00,  1.32s/it]\n"
     ]
    },
    {
     "data": {
      "image/png": "[encoded data removed]",
      "text/plain": [
       "<Figure size 700x600 with 2 Axes>"
      ]
     },
     "metadata": {},
     "output_type": "display_data"
    }
   ],
   "source": [
    "chunk_size = 5000  # Define chunk size\n",
    "num_chunks = train_features.shape[0] // chunk_size\n",
    "lr = LogisticRegression(solver='lbfgs', max_iter=1000)\n",
    "total_samples_processed = 0\n",
    "for i in tqdm(range(num_chunks), desc='Training LR'):\n",
    "    start = i * chunk_size\n",
    "    end = (i + 1) * chunk_size\n",
    "    chunk_features = train_features[start:end]\n",
    "    chunk_labels = train_labels[start:end]\n",
    "    lr.fit(train_features, train_labels)\n",
    "    total_samples_processed += chunk_features.shape[0]\n",
    "    \n",
    "if train_features.shape[0] % chunk_size != 0:\n",
    "    remaining_features = train_features[num_chunks * chunk_size:]\n",
    "    remaining_labels = train_labels[num_chunks * chunk_size:]\n",
    "    lr.fit(train_features, train_labels)\n",
    "    total_samples_processed += remaining_features.shape[0]\n",
    "    \n",
    "lr_preds = lr.predict(test_features)\n",
    "# Calculate accuracy\n",
    "lr_acc = accuracy_score(test_labels, lr_preds)\n",
    "cf_lr = show_confusion_matrix('Logistic Regression', lr_preds)"
   ]
  },
  {
   "cell_type": "code",
   "execution_count": 55,
   "id": "64766cc8",
   "metadata": {},
   "outputs": [
    {
     "name": "stderr",
     "output_type": "stream",
     "text": [
      "5it [00:06,  1.40s/it]"
     ]
    },
    {
     "name": "stdout",
     "output_type": "stream",
     "text": [
      "Cross-validation scores: [0.6911561305019933, 0.697258156374583, 0.6944105443007078, 0.6926769731489015, 0.6923515052888527]\n",
      "Mean accuracy: 0.6935706619230076\n"
     ]
    },
    {
     "name": "stderr",
     "output_type": "stream",
     "text": [
      "\n"
     ]
    }
   ],
   "source": [
    "combined_data = pd.concat([train, valid], axis=0)\n",
    "combined_data = combined_data.sample(frac=1, random_state=42).reset_index(drop=True)\n",
    "combined_data = combined_data.dropna(subset=['label'])\n",
    "X_combined = combined_data['text']\n",
    "y_combined = combined_data['label'].map({1:2, 0:1, -1:0})\n",
    "y_combined = y_combined.fillna(1) \n",
    "cv = StratifiedKFold(n_splits=5, shuffle=True, random_state=42)\n",
    "vectorizer = TfidfVectorizer(max_features=15000)\n",
    "lr_cv = LogisticRegression(solver='lbfgs', max_iter=1000)\n",
    "cv_scores = []\n",
    "for train_idx, val_idx in tqdm(cv.split(X_combined, y_combined)):\n",
    "    # Split the data into training and validation sets\n",
    "    X_train, X_val = X_combined.iloc[train_idx], X_combined.iloc[val_idx]\n",
    "    y_train, y_val = y_combined.iloc[train_idx], y_combined.iloc[val_idx]\n",
    "    \n",
    "    # Vectorize the training data\n",
    "    X_train_features = vectorizer.fit_transform(X_train)\n",
    "    \n",
    "    # Vectorize the validation data using the same vectorizer (to avoid leakage)\n",
    "    X_val_features = vectorizer.transform(X_val)\n",
    "    \n",
    "    lr.fit(X_train_features, y_train)\n",
    "    \n",
    "    # Evaluate the model on the validation data\n",
    "    score = lr.score(X_val_features, y_val)\n",
    "    cv_scores.append(score)\n",
    "\n",
    "print(f\"Cross-validation scores: {cv_scores}\")\n",
    "print(f\"Mean accuracy: {sum(cv_scores)/len(cv_scores)}\")\n",
    "lr_cv_acc = sum(cv_scores)/len(cv_scores)"
   ]
  },
  {
   "cell_type": "code",
   "execution_count": 56,
   "id": "f3b5eb6f-9261-4bc8-a00c-235fa91116a0",
   "metadata": {},
   "outputs": [
    {
     "data": {
      "text/html": [
       "<div>\n",
       "<style scoped>\n",
       "    .dataframe tbody tr th:only-of-type {\n",
       "        vertical-align: middle;\n",
       "    }\n",
       "\n",
       "    .dataframe tbody tr th {\n",
       "        vertical-align: top;\n",
       "    }\n",
       "\n",
       "    .dataframe thead th {\n",
       "        text-align: right;\n",
       "    }\n",
       "</style>\n",
       "<table border=\"1\" class=\"dataframe\">\n",
       "  <thead>\n",
       "    <tr style=\"text-align: right;\">\n",
       "      <th></th>\n",
       "      <th>accuracy</th>\n",
       "      <th>F1_positive</th>\n",
       "      <th>F1_neutral</th>\n",
       "      <th>F1_negetive</th>\n",
       "    </tr>\n",
       "  </thead>\n",
       "  <tbody>\n",
       "    <tr>\n",
       "      <th>lr</th>\n",
       "      <td>0.606314</td>\n",
       "      <td>0.562951</td>\n",
       "      <td>0.662539</td>\n",
       "      <td>0.526283</td>\n",
       "    </tr>\n",
       "  </tbody>\n",
       "</table>\n",
       "</div>"
      ],
      "text/plain": [
       "    accuracy  F1_positive  F1_neutral  F1_negetive\n",
       "lr  0.606314     0.562951    0.662539     0.526283"
      ]
     },
     "execution_count": 56,
     "metadata": {},
     "output_type": "execute_result"
    }
   ],
   "source": [
    "r = [[cf_lr[2,2] / cf_lr[2,:].sum(), cf_lr[1,1] / cf_lr[1,:].sum(), cf_lr[0,0] / cf_lr[0,:].sum()]]\n",
    "recall_df = pd.DataFrame(r, columns=['positive', 'neutral', 'negetive'], index=['lr'])\n",
    "p = [[cf_lr[2,2] / cf_lr[:,2].sum(), cf_lr[1,1] / cf_lr[:,1].sum(), cf_lr[0,0] / cf_lr[:,0].sum()]]\n",
    "precision_df = pd.DataFrame(p, columns=['positive', 'neutral', 'negetive'], index=['lr'])\n",
    "f1_scores = recall_df.copy()\n",
    "for col in ['positive', 'neutral', 'negetive']:\n",
    "    f1_scores[col] = 2 * (precision_df[col] * recall_df[col]) / (precision_df[col] + recall_df[col])\n",
    "\n",
    "df_accuracies = pd.DataFrame({\n",
    "    'accuracy': [lr_acc]\n",
    "}, index=['lr'])\n",
    "# Add a suffix to indicate F1 scores\n",
    "f1_scores = f1_scores.rename(columns=lambda x: x if x == 'name' else f'F1_{x}')\n",
    "results = pd.concat([df_accuracies, f1_scores], axis=1)\n",
    "results\n"
   ]
  },
  {
   "cell_type": "code",
   "execution_count": 57,
   "id": "7430fb4f",
   "metadata": {},
   "outputs": [
    {
     "data": {
      "text/html": [
       "<div>\n",
       "<style scoped>\n",
       "    .dataframe tbody tr th:only-of-type {\n",
       "        vertical-align: middle;\n",
       "    }\n",
       "\n",
       "    .dataframe tbody tr th {\n",
       "        vertical-align: top;\n",
       "    }\n",
       "\n",
       "    .dataframe thead th {\n",
       "        text-align: right;\n",
       "    }\n",
       "</style>\n",
       "<table border=\"1\" class=\"dataframe\">\n",
       "  <thead>\n",
       "    <tr style=\"text-align: right;\">\n",
       "      <th></th>\n",
       "      <th>accuracy</th>\n",
       "    </tr>\n",
       "  </thead>\n",
       "  <tbody>\n",
       "    <tr>\n",
       "      <th>LR Without CV</th>\n",
       "      <td>0.606314</td>\n",
       "    </tr>\n",
       "    <tr>\n",
       "      <th>LR With CV</th>\n",
       "      <td>0.693571</td>\n",
       "    </tr>\n",
       "  </tbody>\n",
       "</table>\n",
       "</div>"
      ],
      "text/plain": [
       "               accuracy\n",
       "LR Without CV  0.606314\n",
       "LR With CV     0.693571"
      ]
     },
     "execution_count": 57,
     "metadata": {},
     "output_type": "execute_result"
    }
   ],
   "source": [
    "results = pd.DataFrame({'accuracy': [lr_acc, lr_cv_acc]}, index=['LR Without CV', 'LR With CV'])\n",
    "results"
   ]
  },
  {
   "cell_type": "code",
   "execution_count": 58,
   "id": "6a1a66a2-8dc9-4bed-a224-28cf37d740d7",
   "metadata": {},
   "outputs": [
    {
     "name": "stdout",
     "output_type": "stream",
     "text": [
      "Logistic Regression model saved successfully.\n"
     ]
    }
   ],
   "source": [
    "joblib.dump(lr_cv, \"./models/logistic_regression_model.pkl\")\n",
    "print(\"Logistic Regression model saved successfully.\")\n",
    "\n",
    "results.to_csv('LR_results.csv', index=False)"
   ]
  },
  {
   "cell_type": "code",
   "execution_count": null,
   "id": "092ab304-f39e-40ed-a5db-aed4610918fa",
   "metadata": {},
   "outputs": [],
   "source": []
  }
 ],
 "metadata": {
  "kernelspec": {
   "display_name": "pytorch_env",
   "language": "python",
   "name": "python3"
  },
  "language_info": {
   "codemirror_mode": {
    "name": "ipython",
    "version": 3
   },
   "file_extension": ".py",
   "mimetype": "text/x-python",
   "name": "python",
   "nbconvert_exporter": "python",
   "pygments_lexer": "ipython3",
   "version": "3.9.20"
  }
 },
 "nbformat": 4,
 "nbformat_minor": 5
}
